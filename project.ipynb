{
 "cells": [
  {
   "cell_type": "code",
   "execution_count": 111,
   "id": "bed5b23a",
   "metadata": {},
   "outputs": [],
   "source": [
    "class TreeNode:\n",
    "     def __init__(self, x):\n",
    "         self.val = x\n",
    "         self.left = None\n",
    "         self.right = None\n",
    " \n",
    "a = TreeNode(('pi + student'))\n",
    "b = TreeNode(\"join + course\")\n",
    "c = TreeNode(\"sigma + \")\n",
    "d = TreeNode(\"country = singpore\")\n",
    "\n",
    " \n",
    "a.left = b\n",
    "a.right = c\n",
    "b.left = d"
   ]
  },
  {
   "cell_type": "code",
   "execution_count": 112,
   "id": "a622f355",
   "metadata": {},
   "outputs": [
    {
     "name": "stdout",
     "output_type": "stream",
     "text": [
      "pi + student\n",
      "join + course\n",
      "country = singpore\n",
      "sigma + \n",
      "['pi + student', 'join + course', 'country = singpore', 'sigma + ']\n"
     ]
    }
   ],
   "source": [
    "def preOrderTraverse(node):\n",
    "    if not node:\n",
    "        return None\n",
    "    res.append(str(node.val))\n",
    "    print(node.val)\n",
    "    preOrderTraverse(node.left)\n",
    "    preOrderTraverse(node.right)\n",
    "    return res\n",
    "\n",
    "res = []\n",
    "preOrderTraverse(a)\n",
    "print(res)"
   ]
  },
  {
   "cell_type": "code",
   "execution_count": 113,
   "id": "32a6d235",
   "metadata": {},
   "outputs": [
    {
     "name": "stdout",
     "output_type": "stream",
     "text": [
      "pi\n",
      "student\n",
      "+\n",
      "join\n",
      "course\n",
      "+\n",
      "+\n",
      "sigma\n",
      "contry\n",
      "singapore\n",
      "=\n",
      "+\n",
      "+\n",
      "the tree <pythonds.trees.binaryTree.BinaryTree object at 0x7f3d941136d0>\n"
     ]
    }
   ],
   "source": [
    "from pythonds.basic import Stack\n",
    "from pythonds.trees import BinaryTree\n",
    "\n",
    "def buildParseTree(fpexp):\n",
    "    fplist = fpexp.split()\n",
    "#     print(fplist)\n",
    "    pStack = Stack()\n",
    "    eTree = BinaryTree('')\n",
    "    pStack.push(eTree)\n",
    "    currentTree = eTree\n",
    "\n",
    "    for i in fplist:\n",
    "        if i == '(':\n",
    "            currentTree.insertLeft('')\n",
    "            pStack.push(currentTree)\n",
    "            currentTree = currentTree.getLeftChild()\n",
    "\n",
    "        elif i in ['+','=']:\n",
    "            currentTree.setRootVal(i)\n",
    "            currentTree.insertRight('')\n",
    "            pStack.push(currentTree)\n",
    "            currentTree = currentTree.getRightChild()\n",
    "\n",
    "        elif i == ')':\n",
    "            currentTree = pStack.pop()\n",
    "            \n",
    "        elif i not in ['+',  ')']:\n",
    "            try:\n",
    "                currentTree.setRootVal((i))\n",
    "                parent = pStack.pop()\n",
    "                currentTree = parent\n",
    "\n",
    "            except ValueError:\n",
    "                raise ValueError(\"token '{}' is not a valid character\".format(i))\n",
    "\n",
    "    return eTree\n",
    "\n",
    "pt = buildParseTree(\" ( ( ( pi + student ) + ( join + course ) ) + ( sigma + ( contry = singapore ) ) )\")\n",
    "pt.postorder()  \n",
    "print(\"the tree\",pt)"
   ]
  },
  {
   "cell_type": "code",
   "execution_count": 114,
   "id": "c1fafa3b",
   "metadata": {},
   "outputs": [
    {
     "name": "stdout",
     "output_type": "stream",
     "text": [
      "((((pi)+(student))+((join)+(course)))+((sigma)+((contry)=(singapore))))\n"
     ]
    }
   ],
   "source": [
    "def evaluate(tree):\n",
    "    sVal=''\n",
    "    if tree:\n",
    "        sVal='('+printexp(tree.getLeftChild())\n",
    "        sVal=sVal+str(tree.getRootVal())\n",
    "        sVal=sVal+printexp(tree.getRightChild())+')'\n",
    "    return sVal\n",
    "order = evaluate(pt)\n",
    "print(order)"
   ]
  },
  {
   "cell_type": "code",
   "execution_count": 116,
   "id": "e54dfae2",
   "metadata": {},
   "outputs": [
    {
     "name": "stdout",
     "output_type": "stream",
     "text": [
      "(\n",
      "(\n",
      "(\n",
      "(\n",
      "p\n",
      "i\n",
      ")\n",
      "+\n",
      "(\n",
      "s\n",
      "t\n",
      "u\n",
      "d\n",
      "e\n",
      "n\n",
      "t\n",
      ")\n",
      ")\n",
      "+\n",
      "(\n",
      "(\n",
      "j\n",
      "o\n",
      "i\n",
      "n\n",
      ")\n",
      "+\n",
      "(\n",
      "c\n",
      "o\n",
      "u\n",
      "r\n",
      "s\n",
      "e\n",
      ")\n",
      ")\n",
      ")\n",
      "+\n",
      "(\n",
      "(\n",
      "s\n",
      "i\n",
      "g\n",
      "m\n",
      "a\n",
      ")\n",
      "+\n",
      "(\n",
      "(\n",
      "c\n",
      "o\n",
      "n\n",
      "t\n",
      "r\n",
      "y\n",
      ")\n",
      "=\n",
      "(\n",
      "s\n",
      "i\n",
      "n\n",
      "g\n",
      "a\n",
      "p\n",
      "o\n",
      "r\n",
      "e\n",
      ")\n",
      ")\n",
      ")\n",
      ")\n"
     ]
    }
   ],
   "source": [
    "def order_index(order_bracket):\n",
    "    res = dict()\n",
    "    class_query = 0\n",
    "    condact = \"\"\n",
    "    for i in order_bracket:\n",
    "        if i == \"(\":\n",
    "            class_query += 1\n",
    "        elif i == \"+\":\n",
    "            \n",
    "order_index(order)"
   ]
  },
  {
   "cell_type": "code",
   "execution_count": 109,
   "id": "6c9cf8f5",
   "metadata": {},
   "outputs": [],
   "source": []
  },
  {
   "cell_type": "code",
   "execution_count": null,
   "id": "d37679fd",
   "metadata": {},
   "outputs": [],
   "source": []
  },
  {
   "cell_type": "code",
   "execution_count": null,
   "id": "60b6b7db",
   "metadata": {},
   "outputs": [],
   "source": []
  }
 ],
 "metadata": {
  "kernelspec": {
   "display_name": "Python 3 (ipykernel)",
   "language": "python",
   "name": "python3"
  },
  "language_info": {
   "codemirror_mode": {
    "name": "ipython",
    "version": 3
   },
   "file_extension": ".py",
   "mimetype": "text/x-python",
   "name": "python",
   "nbconvert_exporter": "python",
   "pygments_lexer": "ipython3",
   "version": "3.8.10"
  }
 },
 "nbformat": 4,
 "nbformat_minor": 5
}
